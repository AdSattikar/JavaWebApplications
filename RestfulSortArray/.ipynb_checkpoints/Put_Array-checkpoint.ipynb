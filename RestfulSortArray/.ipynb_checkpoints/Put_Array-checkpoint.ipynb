{
 "cells": [
  {
   "cell_type": "code",
   "execution_count": 11,
   "id": "a4ae34d8",
   "metadata": {},
   "outputs": [],
   "source": [
    "import requests\n",
    "api_url = \"http://localhost:8080/RestfulSortArray/webresources/generic\"\n",
    "response = requests.put(api_url, \"10 2 56 4 89 12\")"
   ]
  }
 ],
 "metadata": {
  "kernelspec": {
   "display_name": "Python 3 (ipykernel)",
   "language": "python",
   "name": "python3"
  },
  "language_info": {
   "codemirror_mode": {
    "name": "ipython",
    "version": 3
   },
   "file_extension": ".py",
   "mimetype": "text/x-python",
   "name": "python",
   "nbconvert_exporter": "python",
   "pygments_lexer": "ipython3",
   "version": "3.9.0"
  }
 },
 "nbformat": 4,
 "nbformat_minor": 5
}
